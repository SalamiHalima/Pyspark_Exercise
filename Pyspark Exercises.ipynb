{
 "cells": [
  {
   "cell_type": "code",
   "execution_count": 321,
   "id": "9d867484",
   "metadata": {
    "ExecuteTime": {
     "end_time": "2023-03-14T23:08:41.088007Z",
     "start_time": "2023-03-14T23:08:41.081421Z"
    }
   },
   "outputs": [],
   "source": [
    "import pyspark\n",
    "from pyspark.sql import SparkSession\n",
    "\n",
    "import pyspark.sql.functions as func\n",
    "from pyspark.sql.functions import sum"
   ]
  },
  {
   "cell_type": "code",
   "execution_count": 322,
   "id": "18cf8dbd",
   "metadata": {
    "ExecuteTime": {
     "end_time": "2023-03-14T23:08:41.638320Z",
     "start_time": "2023-03-14T23:08:41.607671Z"
    }
   },
   "outputs": [],
   "source": [
    "spark = SparkSession.builder.master(\"local[*]\").appName(\"Datamanipulation\").getOrCreate()"
   ]
  },
  {
   "cell_type": "code",
   "execution_count": 323,
   "id": "9e64796c",
   "metadata": {
    "ExecuteTime": {
     "end_time": "2023-03-14T23:08:42.079408Z",
     "start_time": "2023-03-14T23:08:42.065411Z"
    }
   },
   "outputs": [
    {
     "data": {
      "text/html": [
       "\n",
       "            <div>\n",
       "                <p><b>SparkSession - in-memory</b></p>\n",
       "                \n",
       "        <div>\n",
       "            <p><b>SparkContext</b></p>\n",
       "\n",
       "            <p><a href=\"http://DESKTOP-OV3P5E4:4040\">Spark UI</a></p>\n",
       "\n",
       "            <dl>\n",
       "              <dt>Version</dt>\n",
       "                <dd><code>v3.3.2</code></dd>\n",
       "              <dt>Master</dt>\n",
       "                <dd><code>local[*]</code></dd>\n",
       "              <dt>AppName</dt>\n",
       "                <dd><code>Datamanipulation</code></dd>\n",
       "            </dl>\n",
       "        </div>\n",
       "        \n",
       "            </div>\n",
       "        "
      ],
      "text/plain": [
       "<pyspark.sql.session.SparkSession at 0x24571bdb5e0>"
      ]
     },
     "execution_count": 323,
     "metadata": {},
     "output_type": "execute_result"
    }
   ],
   "source": [
    "spark"
   ]
  },
  {
   "cell_type": "code",
   "execution_count": 353,
   "id": "1cb29770",
   "metadata": {
    "ExecuteTime": {
     "end_time": "2023-03-14T23:34:34.258311Z",
     "start_time": "2023-03-14T23:34:34.050229Z"
    }
   },
   "outputs": [
    {
     "name": "stdout",
     "output_type": "stream",
     "text": [
      "root\n",
      " |-- Row ID: string (nullable = true)\n",
      " |-- Order ID: string (nullable = true)\n",
      " |-- Order Date: string (nullable = true)\n",
      " |-- Ship Date: string (nullable = true)\n",
      " |-- Ship Mode: string (nullable = true)\n",
      " |-- Customer ID: string (nullable = true)\n",
      " |-- Customer Name: string (nullable = true)\n",
      " |-- Segment: string (nullable = true)\n",
      " |-- City: string (nullable = true)\n",
      " |-- State: string (nullable = true)\n",
      " |-- Country: string (nullable = true)\n",
      " |-- Region: string (nullable = true)\n",
      " |-- Product ID: string (nullable = true)\n",
      " |-- Category: string (nullable = true)\n",
      " |-- Sub-Category: string (nullable = true)\n",
      " |-- Product Name: string (nullable = true)\n",
      " |-- Sales: string (nullable = true)\n",
      " |-- Quantity: string (nullable = true)\n",
      " |-- Discount: string (nullable = true)\n",
      " |-- Profit: string (nullable = true)\n",
      "\n"
     ]
    }
   ],
   "source": [
    "# read our data - lives in a csv file\n",
    "\n",
    "df = spark.read.option(\"header\",\"true\").csv(\"Sample - EU Superstore.csv\")\n",
    "#df.show(3)\n",
    "df.printSchema()"
   ]
  },
  {
   "cell_type": "code",
   "execution_count": 354,
   "id": "6c800030",
   "metadata": {
    "ExecuteTime": {
     "end_time": "2023-03-14T23:34:34.573455Z",
     "start_time": "2023-03-14T23:34:34.366908Z"
    }
   },
   "outputs": [
    {
     "data": {
      "text/plain": [
       "2827"
      ]
     },
     "execution_count": 354,
     "metadata": {},
     "output_type": "execute_result"
    }
   ],
   "source": [
    "# how many rows of the EU Superstore dataset have the country being France\n",
    "df.filter(df['Country'] == 'France').count()"
   ]
  },
  {
   "cell_type": "code",
   "execution_count": null,
   "id": "648e5f8a",
   "metadata": {
    "ExecuteTime": {
     "end_time": "2023-03-14T23:34:34.686607Z",
     "start_time": "2023-03-14T23:34:34.686607Z"
    }
   },
   "outputs": [],
   "source": [
    "# of those, how many are profitable?\n",
    "\n",
    "df.filter((df['Country'] == 'France') & (df['Profit'] != 0)).count()"
   ]
  },
  {
   "cell_type": "code",
   "execution_count": 355,
   "id": "ca611b93",
   "metadata": {
    "ExecuteTime": {
     "end_time": "2023-03-14T23:34:35.556590Z",
     "start_time": "2023-03-14T23:34:34.890789Z"
    }
   },
   "outputs": [
    {
     "name": "stdout",
     "output_type": "stream",
     "text": [
      "+--------+\n",
      "|Discount|\n",
      "+--------+\n",
      "|     0.3|\n",
      "|     0.7|\n",
      "|       0|\n",
      "|     0.2|\n",
      "|    0.15|\n",
      "|    0.35|\n",
      "|     0.8|\n",
      "|    0.45|\n",
      "|     0.5|\n",
      "|    0.65|\n",
      "|     0.6|\n",
      "|     0.1|\n",
      "|    0.85|\n",
      "|     0.4|\n",
      "+--------+\n",
      "\n"
     ]
    }
   ],
   "source": [
    "# how many different discount brackets exist? what are they?\n",
    "df.select(df['Discount']).distinct().count()\n",
    "df.select(df['Discount']).distinct().show()"
   ]
  },
  {
   "cell_type": "code",
   "execution_count": null,
   "id": "a0a64029",
   "metadata": {
    "ExecuteTime": {
     "end_time": "2023-03-14T23:34:35.672073Z",
     "start_time": "2023-03-14T23:34:35.672073Z"
    }
   },
   "outputs": [],
   "source": [
    "# Converting the Struct type\n",
    "\n",
    "from pyspark.sql.types import *\n",
    "\n",
    "df.withColumn('Discount', df['Discount'].cast('double')).\\\n",
    "    withColumn('Sales', df['Sales'].cast('double')).\\\n",
    "    withColumn('Profit', df['Profit'].cast('double')).\\\n",
    "    withColumn('Quantity', df['Quantity'].cast('double')).printSchema()   "
   ]
  },
  {
   "cell_type": "code",
   "execution_count": 356,
   "id": "b2e1f9f0",
   "metadata": {
    "ExecuteTime": {
     "end_time": "2023-03-14T23:34:36.921571Z",
     "start_time": "2023-03-14T23:34:36.562621Z"
    }
   },
   "outputs": [
    {
     "name": "stdout",
     "output_type": "stream",
     "text": [
      "+--------+-------------------+\n",
      "|Discount|        sum(Profit)|\n",
      "+--------+-------------------+\n",
      "|       0| 383806.53000000026|\n",
      "|     0.1|  126884.0309999999|\n",
      "|    0.15| 24677.563499999975|\n",
      "|     0.2| 2189.5499999999984|\n",
      "|     0.3| -758.4209999999999|\n",
      "|    0.35|          -9122.649|\n",
      "|     0.4|-21346.427999999996|\n",
      "|    0.45|         -1103.1915|\n",
      "|     0.5|         -96632.115|\n",
      "|     0.6|-20517.456000000002|\n",
      "|    0.65| -6221.965499999999|\n",
      "|     0.7|          -5496.765|\n",
      "|     0.8|           -460.284|\n",
      "|    0.85|          -3068.658|\n",
      "+--------+-------------------+\n",
      "\n"
     ]
    }
   ],
   "source": [
    "# let's see the totl profit by discount bracket, make sure they are ordered by \n",
    "\n",
    "prof_by_disc = df.groupBy('Discount').agg({'Profit': 'sum'}).orderBy(['Discount', 'sum(Profit)'], ascending=True)\n",
    "prof_by_disc.show()"
   ]
  },
  {
   "cell_type": "code",
   "execution_count": 357,
   "id": "d1d76050",
   "metadata": {
    "ExecuteTime": {
     "end_time": "2023-03-14T23:34:39.838676Z",
     "start_time": "2023-03-14T23:34:39.364124Z"
    }
   },
   "outputs": [
    {
     "data": {
      "text/plain": [
       "'0.3'"
      ]
     },
     "execution_count": 357,
     "metadata": {},
     "output_type": "execute_result"
    }
   ],
   "source": [
    "# what is the value after which we should stop offering discount?\n",
    "prof_by_disc.collect()[4][0]"
   ]
  },
  {
   "cell_type": "code",
   "execution_count": null,
   "id": "aae94ee1",
   "metadata": {
    "ExecuteTime": {
     "end_time": "2023-03-14T23:34:39.947745Z",
     "start_time": "2023-03-14T23:34:39.947745Z"
    }
   },
   "outputs": [],
   "source": [
    "# who are the top 5 most profitable customers\n",
    "\n",
    "prof_customers = df.groupBy('Customer Name').agg({'Profit':'sum'}).orderBy('sum(Profit)', ascending = False)\n",
    "prof_customers.show(5)"
   ]
  },
  {
   "cell_type": "code",
   "execution_count": null,
   "id": "277c465a",
   "metadata": {
    "ExecuteTime": {
     "end_time": "2023-03-14T23:34:40.003973Z",
     "start_time": "2023-03-14T23:34:40.003973Z"
    }
   },
   "outputs": [],
   "source": [
    "# get all the rows belonging to those 5 customer names: hint, you may need the collect method - how many rows are they?\n",
    "\n",
    "cust_top5 = prof_customers.collect()[:5]\n",
    "df[df['Customer Name'].isin([name[0] for name in cust_top5])].select('Customer Name').count()#.show()"
   ]
  },
  {
   "cell_type": "code",
   "execution_count": 358,
   "id": "8d0fc034",
   "metadata": {
    "ExecuteTime": {
     "end_time": "2023-03-14T23:34:40.735682Z",
     "start_time": "2023-03-14T23:34:40.707920Z"
    }
   },
   "outputs": [],
   "source": [
    "# create a new column which is the value of the sale were there not discount applied. Hint: orginal = sales/(1-d)\n",
    "\n",
    "df = df.withColumn('original', func.round(df['Sales'] /(1-df['Discount']),2))"
   ]
  },
  {
   "cell_type": "code",
   "execution_count": 362,
   "id": "ba0f9aa9",
   "metadata": {
    "ExecuteTime": {
     "end_time": "2023-03-14T23:38:26.194772Z",
     "start_time": "2023-03-14T23:38:25.894121Z"
    }
   },
   "outputs": [
    {
     "name": "stdout",
     "output_type": "stream",
     "text": [
      "+--------+--------+--------------+\n",
      "|   Sales|Discount|Discount_value|\n",
      "+--------+--------+--------------+\n",
      "|  999.09|    0.15|        849.23|\n",
      "|  993.66|     0.5|        496.83|\n",
      "| 993.615|     0.5|        496.81|\n",
      "| 993.531|    0.15|         844.5|\n",
      "|992.9955|    0.15|        844.05|\n",
      "| 990.468|     0.1|        891.42|\n",
      "|  99.792|     0.1|         89.81|\n",
      "|  99.792|     0.4|         59.88|\n",
      "|  99.765|     0.5|         49.88|\n",
      "|   99.54|     0.5|         49.77|\n",
      "|  99.252|     0.1|         89.33|\n",
      "|  99.252|     0.1|         89.33|\n",
      "|  99.099|     0.3|         69.37|\n",
      "|  989.04|     0.5|        494.52|\n",
      "|  989.04|     0.5|        494.52|\n",
      "| 987.957|     0.1|        889.16|\n",
      "| 986.904|     0.6|        394.76|\n",
      "| 985.824|     0.6|        394.33|\n",
      "| 985.284|     0.1|        886.76|\n",
      "|  983.88|     0.1|        885.49|\n",
      "+--------+--------+--------------+\n",
      "only showing top 20 rows\n",
      "\n"
     ]
    },
    {
     "data": {
      "text/plain": [
       "'df = df.withColumn(\"Discounted Value\", func.round(df[\"Sales\"] - (df[\"Sales\"] * df[\"Discount\"]), 2))\\n\\ndf.select(\"Sales\", \"Discount\", \"Discounted Value\").filter(df[\"Discount\"] > 0.0).orderBy(\"Sales\", ascending=False).show()'"
      ]
     },
     "execution_count": 362,
     "metadata": {},
     "output_type": "execute_result"
    }
   ],
   "source": [
    "# calculate the difference between sales and discount value\n",
    "\n",
    "df.withColumn('Discount_value', func.round(df['Sales'] - (df['Sales'] * df['Discount']), 2)).\\\n",
    "    select('Sales', 'Discount', 'Discount_value').\\\n",
    "    filter(df[\"Discount\"] > 0.0).orderBy(\"Sales\", ascending=False).show()\n"
   ]
  },
  {
   "cell_type": "code",
   "execution_count": 372,
   "id": "8e810f4f",
   "metadata": {
    "ExecuteTime": {
     "end_time": "2023-03-14T23:46:09.995821Z",
     "start_time": "2023-03-14T23:46:09.633433Z"
    }
   },
   "outputs": [
    {
     "name": "stdout",
     "output_type": "stream",
     "text": [
      "+--------+-------------------+\n",
      "|Discount|        loss_profit|\n",
      "+--------+-------------------+\n",
      "|     0.3| -943.4910000000002|\n",
      "|     0.7|          -5496.765|\n",
      "|     0.2|          -2618.634|\n",
      "|    0.15|          -7195.566|\n",
      "|    0.35|        -11128.1355|\n",
      "|     0.8|           -460.284|\n",
      "|    0.45|         -1103.1915|\n",
      "|     0.5|         -96632.115|\n",
      "|    0.65| -6221.965499999999|\n",
      "|     0.6|-20517.456000000002|\n",
      "|     0.1| -8330.903999999995|\n",
      "|    0.85|          -3068.658|\n",
      "|     0.4| -22471.83000000001|\n",
      "+--------+-------------------+\n",
      "\n"
     ]
    }
   ],
   "source": [
    "# how much money did we not gain due to the discounts - per discount bracket?\n",
    "loss_with_discount = df.filter((df['Discount'] != 0.0) & (df['Profit'] < 0.0)).select('Discount', 'Profit')\n",
    "loss_with_discount.groupBy('Discount').agg({'Profit':'sum'}).withColumnRenamed('sum(Profit)', 'loss_profit').show()"
   ]
  },
  {
   "cell_type": "code",
   "execution_count": 373,
   "id": "76aca9f2",
   "metadata": {
    "ExecuteTime": {
     "end_time": "2023-03-14T23:46:25.718603Z",
     "start_time": "2023-03-14T23:46:25.237285Z"
    }
   },
   "outputs": [
    {
     "data": {
      "text/plain": [
       "'0.8'"
      ]
     },
     "execution_count": 373,
     "metadata": {},
     "output_type": "execute_result"
    }
   ],
   "source": [
    "# find the discount bracket which made us not gain the most (dynamically)\n",
    "\n",
    "loss_with_discount = loss_with_Disc.groupBy('Discount').agg({'Profit':'sum'}).orderBy('sum(Profit)', ascending=False).collect()[0][0]\n",
    "loss_with_discount"
   ]
  },
  {
   "cell_type": "code",
   "execution_count": 388,
   "id": "0aa9b685",
   "metadata": {
    "ExecuteTime": {
     "end_time": "2023-03-14T23:56:35.911484Z",
     "start_time": "2023-03-14T23:56:35.684812Z"
    }
   },
   "outputs": [
    {
     "data": {
      "text/plain": [
       "373290.0254156566"
      ]
     },
     "execution_count": 388,
     "metadata": {},
     "output_type": "execute_result"
    }
   ],
   "source": [
    "# what would have been the total profit if we removed all orders from that discount group? \n",
    "totl_prof_without_max_loss = df.filter(df['Discount'] != loss_with_discount).select('Profit').agg({'Profit':'sum'}).withColumnRenamed('sum(Profit)', 'without_most_loss_profit').take(1)[0][0]\n",
    "totl_prof_without_max_loss\n"
   ]
  },
  {
   "cell_type": "code",
   "execution_count": 393,
   "id": "fca95e60",
   "metadata": {
    "ExecuteTime": {
     "end_time": "2023-03-15T00:05:14.199581Z",
     "start_time": "2023-03-15T00:05:13.973704Z"
    }
   },
   "outputs": [
    {
     "data": {
      "text/plain": [
       "460.28399658203125"
      ]
     },
     "execution_count": 393,
     "metadata": {},
     "output_type": "execute_result"
    }
   ],
   "source": [
    "#how much more (or less) profit is that?\n",
    "\n",
    "total_profit = df.select('Profit').agg({'Profit':'sum'}).take(1)[0][0]\n",
    "total_profit\n",
    "\n",
    "def diff():\n",
    "    return totl_prof_without_max_loss - total_profit\n",
    "diff()"
   ]
  },
  {
   "cell_type": "code",
   "execution_count": 397,
   "id": "0fb49200",
   "metadata": {
    "ExecuteTime": {
     "end_time": "2023-03-15T00:13:15.818842Z",
     "start_time": "2023-03-15T00:13:15.789337Z"
    }
   },
   "outputs": [],
   "source": [
    "# create a temporary table for our superstore table in sql\n",
    "df.createOrReplaceTempView('data')"
   ]
  },
  {
   "cell_type": "code",
   "execution_count": 398,
   "id": "a23e0bca",
   "metadata": {
    "ExecuteTime": {
     "end_time": "2023-03-15T00:13:16.717440Z",
     "start_time": "2023-03-15T00:13:16.506030Z"
    }
   },
   "outputs": [
    {
     "name": "stdout",
     "output_type": "stream",
     "text": [
      "+--------+\n",
      "|count(1)|\n",
      "+--------+\n",
      "|   10000|\n",
      "+--------+\n",
      "\n"
     ]
    }
   ],
   "source": [
    "# use an SQL query to count the number of rows\n",
    "spark.sql('SELECT COUNT(*) FROM data').show()"
   ]
  },
  {
   "cell_type": "code",
   "execution_count": 403,
   "id": "8e2cf9f2",
   "metadata": {
    "ExecuteTime": {
     "end_time": "2023-03-15T00:15:16.312726Z",
     "start_time": "2023-03-15T00:15:15.959317Z"
    }
   },
   "outputs": [
    {
     "name": "stdout",
     "output_type": "stream",
     "text": [
      "+--------------+--------------------+\n",
      "|       Country|        profit_ratio|\n",
      "+--------------+--------------------+\n",
      "|   Switzerland| 0.29092012306058596|\n",
      "|       Austria|   0.264190876869252|\n",
      "|        Norway| 0.25177475561207147|\n",
      "|       Belgium| 0.23508766512254156|\n",
      "|United Kingdom| 0.21170103566633977|\n",
      "|         Spain| 0.18941580588813087|\n",
      "|       Finland| 0.18864296597998498|\n",
      "|       Germany|  0.1706679208396213|\n",
      "|        France| 0.12693568220672438|\n",
      "|         Italy| 0.06844355267097506|\n",
      "|       Ireland| -0.4442667763849829|\n",
      "|       Denmark|-0.49571900283557735|\n",
      "|   Netherlands| -0.5298342813704527|\n",
      "|        Sweden| -0.5745674291524092|\n",
      "|      Portugal| -0.5761662303775278|\n",
      "+--------------+--------------------+\n",
      "\n"
     ]
    }
   ],
   "source": [
    "# Use an SQL query to calculate the profit ratio for each country: hint, ratio is sum(profit)/sum(sales)\n",
    "spark.sql('SELECT Country, SUM(Profit) / SUM(Sales) AS profit_ratio FROM data GROUP BY Country ORDER BY profit_ratio DESC').show()\n"
   ]
  },
  {
   "cell_type": "code",
   "execution_count": 423,
   "id": "f8cdd772",
   "metadata": {
    "ExecuteTime": {
     "end_time": "2023-03-15T00:32:08.428763Z",
     "start_time": "2023-03-15T00:32:07.803381Z"
    }
   },
   "outputs": [
    {
     "name": "stdout",
     "output_type": "stream",
     "text": [
      "The largest profit ratio country is different from the largest profit country and the both are: Switzerland, United Kingdom respectively.\n"
     ]
    }
   ],
   "source": [
    "# is the country with the largest profit ratio, the country with the largest profit?\n",
    "country_largest_ratio = spark.sql('SELECT Country, SUM(Profit) / SUM(Sales) AS profit_ratio FROM data GROUP BY Country ORDER BY profit_ratio DESC LIMIT 1;').collect()[0][0]\n",
    "country_largest_profit = spark.sql('SELECT Country, SUM(Profit) AS Profit FROM data GROUP BY Country ORDER BY Profit DESC LIMIT 1;').collect()[0][0]\n",
    "\n",
    "print(f'The largest profit ratio country is different from the largest profit country and the both are: {country_largest_ratio}, {country_largest_profit} respectively.')"
   ]
  },
  {
   "cell_type": "code",
   "execution_count": null,
   "id": "5ffdb284",
   "metadata": {},
   "outputs": [],
   "source": []
  }
 ],
 "metadata": {
  "kernelspec": {
   "display_name": "Python 3 (ipykernel)",
   "language": "python",
   "name": "python3"
  },
  "language_info": {
   "codemirror_mode": {
    "name": "ipython",
    "version": 3
   },
   "file_extension": ".py",
   "mimetype": "text/x-python",
   "name": "python",
   "nbconvert_exporter": "python",
   "pygments_lexer": "ipython3",
   "version": "3.9.13"
  },
  "toc": {
   "base_numbering": 1,
   "nav_menu": {},
   "number_sections": true,
   "sideBar": true,
   "skip_h1_title": false,
   "title_cell": "Table of Contents",
   "title_sidebar": "Contents",
   "toc_cell": false,
   "toc_position": {},
   "toc_section_display": true,
   "toc_window_display": false
  },
  "varInspector": {
   "cols": {
    "lenName": 16,
    "lenType": 16,
    "lenVar": 40
   },
   "kernels_config": {
    "python": {
     "delete_cmd_postfix": "",
     "delete_cmd_prefix": "del ",
     "library": "var_list.py",
     "varRefreshCmd": "print(var_dic_list())"
    },
    "r": {
     "delete_cmd_postfix": ") ",
     "delete_cmd_prefix": "rm(",
     "library": "var_list.r",
     "varRefreshCmd": "cat(var_dic_list()) "
    }
   },
   "types_to_exclude": [
    "module",
    "function",
    "builtin_function_or_method",
    "instance",
    "_Feature"
   ],
   "window_display": false
  }
 },
 "nbformat": 4,
 "nbformat_minor": 5
}
